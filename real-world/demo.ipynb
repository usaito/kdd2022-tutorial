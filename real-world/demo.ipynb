{
 "cells": [
  {
   "cell_type": "markdown",
   "source": [
    "## A Brief Demo using Open Bandit Dataset and Pipeline\n",
    "\n",
    "1. Data Loading and Preprocessing (Random Bucket of Open Bandit Dataset)\n",
    "2. Off-Policy Learning (IPWLearner and NNPolicyLearner)\n",
    "3. Off-Policy Evaluation (IPWLearner vs NNPolicyLearner)\n",
    "\n",
    "### \"What is the best new policy for the ZOZOTOWN recommendation interface?\""
   ],
   "metadata": {}
  },
  {
   "cell_type": "code",
   "execution_count": 1,
   "source": [
    "from sklearn.ensemble import RandomForestClassifier\n",
    "from sklearn.linear_model import LogisticRegression\n",
    "\n",
    "import obp\n",
    "from obp.dataset import OpenBanditDataset\n",
    "from obp.policy import IPWLearner, NNPolicyLearner\n",
    "from obp.ope import (\n",
    "    RegressionModel,\n",
    "    OffPolicyEvaluation,\n",
    "    SelfNormalizedInverseProbabilityWeighting as SNIPS,\n",
    "    DoublyRobust as DR,\n",
    ")"
   ],
   "outputs": [],
   "metadata": {}
  },
  {
   "cell_type": "code",
   "execution_count": 2,
   "source": [
    "print(obp.__version__)"
   ],
   "outputs": [
    {
     "output_type": "stream",
     "name": "stdout",
     "text": [
      "0.5.1\n"
     ]
    }
   ],
   "metadata": {}
  },
  {
   "cell_type": "code",
   "execution_count": null,
   "source": [],
   "outputs": [],
   "metadata": {}
  },
  {
   "cell_type": "markdown",
   "source": [
    "## (1) Data Loading and Preprocessing\n",
    "\n",
    "Here we use a random bucket of the Open Bandit Pipeline. We can download this by using `obp.dataset.OpenBanditDataset`."
   ],
   "metadata": {}
  },
  {
   "cell_type": "code",
   "execution_count": 3,
   "source": [
    "# define OpenBanditDataset class to handle the real bandit data\n",
    "dataset = OpenBanditDataset(\n",
    "    behavior_policy=\"random\", campaign=\"all\", data_path=\"./open_bandit_dataset\",\n",
    ")"
   ],
   "outputs": [
    {
     "output_type": "stream",
     "name": "stderr",
     "text": [
      "/Users/usaito/.pyenv/versions/3.9.5/envs/zr-obp/lib/python3.9/site-packages/obp-0.5.1-py3.9.egg/obp/dataset/real.py:203: FutureWarning: In a future version of pandas all arguments of DataFrame.drop except for the argument 'labels' will be keyword-only\n",
      "  item_feature_cat = self.item_context.drop(\"item_feature_0\", 1).apply(\n",
      "/Users/usaito/.pyenv/versions/3.9.5/envs/zr-obp/lib/python3.9/site-packages/obp-0.5.1-py3.9.egg/obp/dataset/real.py:206: FutureWarning: In a future version of pandas all arguments of concat except for the argument 'objs' will be keyword-only\n",
      "  self.action_context = pd.concat([item_feature_cat, item_feature_0], 1).values\n"
     ]
    }
   ],
   "metadata": {}
  },
  {
   "cell_type": "code",
   "execution_count": 4,
   "source": [
    "# logged bandit data collected by the uniform random policy\n",
    "training_bandit_data, test_bandit_data = dataset.obtain_batch_bandit_feedback(\n",
    "    test_size=0.3, is_timeseries_split=True,\n",
    ")"
   ],
   "outputs": [],
   "metadata": {}
  },
  {
   "cell_type": "code",
   "execution_count": 5,
   "source": [
    "# ignore the position effect for a demo purpose\n",
    "training_bandit_data[\"position\"] = None \n",
    "test_bandit_data[\"position\"] = None"
   ],
   "outputs": [],
   "metadata": {}
  },
  {
   "cell_type": "code",
   "execution_count": 6,
   "source": [
    "# number of actions\n",
    "dataset.n_actions"
   ],
   "outputs": [
    {
     "output_type": "execute_result",
     "data": {
      "text/plain": [
       "80"
      ]
     },
     "metadata": {},
     "execution_count": 6
    }
   ],
   "metadata": {}
  },
  {
   "cell_type": "code",
   "execution_count": 7,
   "source": [
    "# sample size\n",
    "dataset.n_rounds"
   ],
   "outputs": [
    {
     "output_type": "execute_result",
     "data": {
      "text/plain": [
       "1374327"
      ]
     },
     "metadata": {},
     "execution_count": 7
    }
   ],
   "metadata": {}
  },
  {
   "cell_type": "code",
   "execution_count": null,
   "source": [],
   "outputs": [],
   "metadata": {}
  },
  {
   "cell_type": "markdown",
   "source": [
    "## (2) Off-Policy Learning (OPL)\n",
    "\n",
    "Train two new policies: `obp.policy.IPWLearner` and `obp.policy.NNPolicyLearner`."
   ],
   "metadata": {}
  },
  {
   "cell_type": "markdown",
   "source": [
    "### IPWLearner"
   ],
   "metadata": {}
  },
  {
   "cell_type": "code",
   "execution_count": 8,
   "source": [
    "ipw_learner = IPWLearner(\n",
    "    n_actions=dataset.n_actions,\n",
    "    base_classifier=RandomForestClassifier(\n",
    "        n_estimators=100, max_depth=5, min_samples_leaf=10, random_state=12345\n",
    "    ),\n",
    ")"
   ],
   "outputs": [],
   "metadata": {}
  },
  {
   "cell_type": "code",
   "execution_count": 9,
   "source": [
    "# fit\n",
    "ipw_learner.fit(\n",
    "    context=training_bandit_data[\"context\"], # context; x\n",
    "    action=training_bandit_data[\"action\"], # action; a\n",
    "    reward=training_bandit_data[\"reward\"], # reward; r\n",
    "    pscore=training_bandit_data[\"pscore\"], # propensity score; pi_b(a|x)\n",
    ")"
   ],
   "outputs": [],
   "metadata": {}
  },
  {
   "cell_type": "code",
   "execution_count": 10,
   "source": [
    "# predict (make new decisions)\n",
    "action_dist_ipw = ipw_learner.predict(\n",
    "    context=test_bandit_data[\"context\"]\n",
    ")"
   ],
   "outputs": [],
   "metadata": {}
  },
  {
   "cell_type": "markdown",
   "source": [
    "### NNPolicyLearner"
   ],
   "metadata": {}
  },
  {
   "cell_type": "code",
   "execution_count": 11,
   "source": [
    "nn_learner = NNPolicyLearner(\n",
    "    n_actions=dataset.n_actions,\n",
    "    dim_context=dataset.dim_context,\n",
    "    solver=\"adam\",\n",
    "    off_policy_objective=\"ipw\", # = ips\n",
    "    batch_size=32, \n",
    "    random_state=12345,\n",
    ")"
   ],
   "outputs": [],
   "metadata": {}
  },
  {
   "cell_type": "code",
   "execution_count": 12,
   "source": [
    "# fit\n",
    "nn_learner.fit(\n",
    "    context=training_bandit_data[\"context\"], # context; x\n",
    "    action=training_bandit_data[\"action\"], # action; a\n",
    "    reward=training_bandit_data[\"reward\"], # reward; r\n",
    "    pscore=training_bandit_data[\"pscore\"], # propensity score; pi_b(a|x)\n",
    ")"
   ],
   "outputs": [
    {
     "output_type": "stream",
     "name": "stderr",
     "text": [
      "policy learning: 100%|████████████████████████████| 200/200 [00:12<00:00, 16.51it/s]\n"
     ]
    }
   ],
   "metadata": {}
  },
  {
   "cell_type": "code",
   "execution_count": 13,
   "source": [
    "# predict (make new decisions)\n",
    "action_dist_nn = nn_learner.predict(\n",
    "    context=test_bandit_data[\"context\"]\n",
    ")"
   ],
   "outputs": [],
   "metadata": {}
  },
  {
   "cell_type": "code",
   "execution_count": null,
   "source": [],
   "outputs": [],
   "metadata": {}
  },
  {
   "cell_type": "markdown",
   "source": [
    "## (3) Off-Policy Evaluation\n",
    "\n",
    "Estimating the performance of IPWLearner and NNPolicyLearner via OPE."
   ],
   "metadata": {}
  },
  {
   "cell_type": "markdown",
   "source": [
    "### (3-1) obtain a reward estimator\n",
    "`obp.ope.RegressionModel` simplifies the process of reward modeling\n",
    "\n",
    "$r(x,a) = \\mathbb{E} [r \\mid x, a] \\approx \\hat{r}(x,a)$"
   ],
   "metadata": {}
  },
  {
   "cell_type": "code",
   "execution_count": 14,
   "source": [
    "regression_model = RegressionModel(\n",
    "    n_actions=dataset.n_actions, \n",
    "    base_model=LogisticRegression(C=100, max_iter=500, random_state=12345),\n",
    ")"
   ],
   "outputs": [],
   "metadata": {}
  },
  {
   "cell_type": "code",
   "execution_count": 15,
   "source": [
    "estimated_rewards = regression_model.fit_predict(\n",
    "    context=test_bandit_data[\"context\"], \n",
    "    action=test_bandit_data[\"action\"], \n",
    "    reward=test_bandit_data[\"reward\"], \n",
    "    random_state=12345,\n",
    ")"
   ],
   "outputs": [],
   "metadata": {}
  },
  {
   "cell_type": "code",
   "execution_count": null,
   "source": [],
   "outputs": [],
   "metadata": {}
  },
  {
   "cell_type": "markdown",
   "source": [
    "### (4-2) OPE\n",
    "`obp.ope.OffPolicyEvaluation` simplifies the OPE process\n",
    "\n",
    "$V(\\pi_e) \\approx \\hat{V} (\\pi_e; \\mathcal{D}_0, \\theta)$ using DM, IPS, and DR"
   ],
   "metadata": {}
  },
  {
   "cell_type": "code",
   "execution_count": 16,
   "source": [
    "ope = OffPolicyEvaluation(\n",
    "    bandit_feedback=test_bandit_data,\n",
    "    ope_estimators=[\n",
    "        SNIPS(estimator_name=\"SNIPS\"),\n",
    "        DR(estimator_name=\"DR\"),\n",
    "    ]\n",
    ")"
   ],
   "outputs": [],
   "metadata": {}
  },
  {
   "cell_type": "markdown",
   "source": [
    "### (4-3) Visualize the OPE results\n",
    "\n",
    "Output the relative performances of the trained policies compared to the logging policy (uniform random)"
   ],
   "metadata": {}
  },
  {
   "cell_type": "code",
   "execution_count": 17,
   "source": [
    "ope.visualize_off_policy_estimates_of_multiple_policies(\n",
    "    policy_name_list=[\"IPWLearner\", \"NNPolicyLearner\"],\n",
    "    action_dist_list=[action_dist_ipw, action_dist_nn],\n",
    "    estimated_rewards_by_reg_model=estimated_rewards,\n",
    "    n_bootstrap_samples=100,\n",
    "    is_relative=True,\n",
    "    random_state=12345,\n",
    ")"
   ],
   "outputs": [
    {
     "output_type": "display_data",
     "data": {
      "image/png": "[encoded data removed]",
      "text/plain": [
       "<Figure size 576x892.8 with 2 Axes>"
      ]
     },
     "metadata": {}
    }
   ],
   "metadata": {}
  },
  {
   "cell_type": "markdown",
   "source": [
    "Both policy learner outperforms the random baseline. In particular, NNPolicyLearner seems to be the best, improving the random baseline by about 70\\%. It also outperforms IPWLearner in both SNIPS and DR."
   ],
   "metadata": {}
  },
  {
   "cell_type": "markdown",
   "source": [],
   "metadata": {}
  }
 ],
 "metadata": {
  "interpreter": {
   "hash": "64b446a4e17784c2dc3dbe74bf0708929a003fb4822b30671d57ebdef413b716"
  },
  "kernelspec": {
   "name": "python3",
   "display_name": "Python 3.9.5 64-bit ('zr-obp': pyenv)"
  },
  "language_info": {
   "codemirror_mode": {
    "name": "ipython",
    "version": 3
   },
   "file_extension": ".py",
   "mimetype": "text/x-python",
   "name": "python",
   "nbconvert_exporter": "python",
   "pygments_lexer": "ipython3",
   "version": "3.9.5"
  }
 },
 "nbformat": 4,
 "nbformat_minor": 4
}