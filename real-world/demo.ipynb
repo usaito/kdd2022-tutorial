{
 "cells": [
  {
   "cell_type": "markdown",
   "metadata": {},
   "source": [
    "## A Brief Demo using Open Bandit Dataset and Pipeline\n",
    "\n",
    "1. Data Loading and Preprocessing (Random Bucket of Open Bandit Dataset)\n",
    "2. Off-Policy Learning (train `IPWLearner` and `NNPolicyLearner` on the training set of logged bandit data)\n",
    "3. Off-Policy Evaluation (compare `IPWLearner` vs `NNPolicyLearner` on the validation set of logged bandit data)\n",
    "\n",
    "### \"What is the best new policy for the ZOZOTOWN recommendation interface?\""
   ]
  },
  {
   "cell_type": "code",
   "execution_count": 1,
   "metadata": {},
   "outputs": [],
   "source": [
    "from sklearn.ensemble import RandomForestClassifier\n",
    "from sklearn.linear_model import LogisticRegression\n",
    "\n",
    "import obp\n",
    "from obp.dataset import OpenBanditDataset\n",
    "from obp.policy import IPWLearner, NNPolicyLearner\n",
    "from obp.ope import (\n",
    "    RegressionModel,\n",
    "    OffPolicyEvaluation,\n",
    "    SelfNormalizedInverseProbabilityWeighting as SNIPS,\n",
    "    DoublyRobust as DR,\n",
    ")"
   ]
  },
  {
   "cell_type": "code",
   "execution_count": 2,
   "metadata": {},
   "outputs": [
    {
     "name": "stdout",
     "output_type": "stream",
     "text": [
      "0.5.4\n"
     ]
    }
   ],
   "source": [
    "print(obp.__version__)"
   ]
  },
  {
   "cell_type": "code",
   "execution_count": null,
   "metadata": {},
   "outputs": [],
   "source": []
  },
  {
   "cell_type": "markdown",
   "metadata": {},
   "source": [
    "## (1) Data Loading and Preprocessing\n",
    "\n",
    "Here we use a random bucket of the Open Bandit Pipeline. We can download this by using `obp.dataset.OpenBanditDataset`."
   ]
  },
  {
   "cell_type": "code",
   "execution_count": 3,
   "metadata": {},
   "outputs": [],
   "source": [
    "# define OpenBanditDataset class to handle the real bandit data\n",
    "dataset = OpenBanditDataset(\n",
    "    behavior_policy=\"random\", campaign=\"all\", data_path=\"./open_bandit_dataset\",\n",
    ")"
   ]
  },
  {
   "cell_type": "code",
   "execution_count": 4,
   "metadata": {},
   "outputs": [],
   "source": [
    "# logged bandit data collected by the uniform random policy\n",
    "training_bandit_data, test_bandit_data = dataset.obtain_batch_bandit_feedback(\n",
    "    test_size=0.3, is_timeseries_split=True,\n",
    ")"
   ]
  },
  {
   "cell_type": "code",
   "execution_count": 5,
   "metadata": {},
   "outputs": [],
   "source": [
    "# ignore the position effect for this demo purpose\n",
    "training_bandit_data[\"position\"] = None \n",
    "test_bandit_data[\"position\"] = None"
   ]
  },
  {
   "cell_type": "code",
   "execution_count": 6,
   "metadata": {},
   "outputs": [
    {
     "data": {
      "text/plain": [
       "80"
      ]
     },
     "execution_count": 6,
     "metadata": {},
     "output_type": "execute_result"
    }
   ],
   "source": [
    "# number of actions\n",
    "dataset.n_actions"
   ]
  },
  {
   "cell_type": "code",
   "execution_count": 7,
   "metadata": {},
   "outputs": [
    {
     "data": {
      "text/plain": [
       "1374327"
      ]
     },
     "execution_count": 7,
     "metadata": {},
     "output_type": "execute_result"
    }
   ],
   "source": [
    "# sample size\n",
    "dataset.n_rounds"
   ]
  },
  {
   "cell_type": "code",
   "execution_count": null,
   "metadata": {},
   "outputs": [],
   "source": []
  },
  {
   "cell_type": "markdown",
   "metadata": {},
   "source": [
    "## (2) Off-Policy Learning (OPL)\n",
    "\n",
    "Train two new policies: `obp.policy.IPWLearner` and `obp.policy.NNPolicyLearner`."
   ]
  },
  {
   "cell_type": "markdown",
   "metadata": {},
   "source": [
    "### IPWLearner"
   ]
  },
  {
   "cell_type": "code",
   "execution_count": 8,
   "metadata": {},
   "outputs": [],
   "source": [
    "ipw_learner = IPWLearner(\n",
    "    n_actions=dataset.n_actions,\n",
    "    base_classifier=RandomForestClassifier(\n",
    "        n_estimators=100, max_depth=5, min_samples_leaf=10, random_state=12345\n",
    "    ),\n",
    ")"
   ]
  },
  {
   "cell_type": "code",
   "execution_count": 9,
   "metadata": {},
   "outputs": [],
   "source": [
    "# fit\n",
    "ipw_learner.fit(\n",
    "    context=training_bandit_data[\"context\"], # context; x\n",
    "    action=training_bandit_data[\"action\"], # action; a\n",
    "    reward=training_bandit_data[\"reward\"], # reward; r\n",
    "    pscore=training_bandit_data[\"pscore\"], # propensity score; pi_0(a|x)\n",
    ")"
   ]
  },
  {
   "cell_type": "code",
   "execution_count": 10,
   "metadata": {},
   "outputs": [],
   "source": [
    "# predict (make decisions on the test set)\n",
    "action_dist_ipw = ipw_learner.predict(\n",
    "    context=test_bandit_data[\"context\"]\n",
    ")"
   ]
  },
  {
   "cell_type": "markdown",
   "metadata": {},
   "source": [
    "### NNPolicyLearner"
   ]
  },
  {
   "cell_type": "code",
   "execution_count": 11,
   "metadata": {},
   "outputs": [],
   "source": [
    "nn_learner = NNPolicyLearner(\n",
    "    n_actions=dataset.n_actions,\n",
    "    dim_context=dataset.dim_context,\n",
    "    solver=\"adam\",\n",
    "    off_policy_objective=\"ipw\", # = ips\n",
    "    batch_size=32, \n",
    "    random_state=12345,\n",
    ")"
   ]
  },
  {
   "cell_type": "code",
   "execution_count": 12,
   "metadata": {},
   "outputs": [
    {
     "name": "stderr",
     "output_type": "stream",
     "text": [
      "policy learning: 100%|██████████| 200/200 [00:12<00:00, 15.65it/s]\n"
     ]
    }
   ],
   "source": [
    "# fit\n",
    "nn_learner.fit(\n",
    "    context=training_bandit_data[\"context\"], # context; x\n",
    "    action=training_bandit_data[\"action\"], # action; a\n",
    "    reward=training_bandit_data[\"reward\"], # reward; r\n",
    "    pscore=training_bandit_data[\"pscore\"], # propensity score; pi_0(a|x)\n",
    ")"
   ]
  },
  {
   "cell_type": "code",
   "execution_count": 13,
   "metadata": {},
   "outputs": [],
   "source": [
    "# predict (make decisions on the test set)\n",
    "action_dist_nn = nn_learner.predict(\n",
    "    context=test_bandit_data[\"context\"]\n",
    ")"
   ]
  },
  {
   "cell_type": "code",
   "execution_count": null,
   "metadata": {},
   "outputs": [],
   "source": []
  },
  {
   "cell_type": "markdown",
   "metadata": {},
   "source": [
    "## (3) Off-Policy Evaluation\n",
    "\n",
    "Estimate the performance of `IPWLearner` and `NNPolicyLearner` via OPE."
   ]
  },
  {
   "cell_type": "markdown",
   "metadata": {},
   "source": [
    "### (3-1) obtain a reward estimator\n",
    "`obp.ope.RegressionModel` simplifies the process of reward modeling\n",
    "\n",
    "$r(x,a) = \\mathbb{E} [r \\mid x, a] \\approx \\hat{r}(x,a)$"
   ]
  },
  {
   "cell_type": "code",
   "execution_count": 14,
   "metadata": {},
   "outputs": [],
   "source": [
    "regression_model = RegressionModel(\n",
    "    n_actions=dataset.n_actions, \n",
    "    base_model=LogisticRegression(C=100, max_iter=500, random_state=12345),\n",
    ")"
   ]
  },
  {
   "cell_type": "code",
   "execution_count": 15,
   "metadata": {},
   "outputs": [],
   "source": [
    "estimated_rewards = regression_model.fit_predict(\n",
    "    context=test_bandit_data[\"context\"], \n",
    "    action=test_bandit_data[\"action\"], \n",
    "    reward=test_bandit_data[\"reward\"], \n",
    "    random_state=12345,\n",
    ")"
   ]
  },
  {
   "cell_type": "code",
   "execution_count": null,
   "metadata": {},
   "outputs": [],
   "source": []
  },
  {
   "cell_type": "markdown",
   "metadata": {},
   "source": [
    "### (4-2) OPE\n",
    "`obp.ope.OffPolicyEvaluation` simplifies the OPE process\n",
    "\n",
    "$V(\\pi_e) \\approx \\hat{V} (\\pi_e; \\mathcal{D}_0, \\theta)$\n",
    "\n",
    "Here we use SNIPS and DR"
   ]
  },
  {
   "cell_type": "code",
   "execution_count": 16,
   "metadata": {},
   "outputs": [],
   "source": [
    "ope = OffPolicyEvaluation(\n",
    "    bandit_feedback=test_bandit_data,\n",
    "    ope_estimators=[\n",
    "        SNIPS(estimator_name=\"SNIPS\"),\n",
    "        DR(estimator_name=\"DR\"),\n",
    "    ]\n",
    ")"
   ]
  },
  {
   "cell_type": "markdown",
   "metadata": {},
   "source": [
    "### (4-3) Visualize the OPE results\n",
    "\n",
    "Visualize the relative performances of the trained policies compared to the logging policy (uniform random)"
   ]
  },
  {
   "cell_type": "code",
   "execution_count": 17,
   "metadata": {},
   "outputs": [
    {
     "data": {
      "image/png": "[encoded data removed]",
      "text/plain": [
       "<Figure size 576x892.8 with 2 Axes>"
      ]
     },
     "metadata": {},
     "output_type": "display_data"
    }
   ],
   "source": [
    "ope.visualize_off_policy_estimates_of_multiple_policies(\n",
    "    policy_name_list=[\"IPWLearner\", \"NNPolicyLearner\"],\n",
    "    action_dist_list=[action_dist_ipw, action_dist_nn],\n",
    "    estimated_rewards_by_reg_model=estimated_rewards,\n",
    "    n_bootstrap_samples=100,\n",
    "    is_relative=True,\n",
    "    random_state=12345,\n",
    ")"
   ]
  },
  {
   "cell_type": "markdown",
   "metadata": {},
   "source": [
    "Both policy learners outperform the random baseline. In particular, NNPolicyLearner seems to be the best, improving the random baseline by about 70\\% (in terms of the estimated lower confidence bound). It also outperforms IPWLearner wrt both SNIPS and DR estimates."
   ]
  },
  {
   "cell_type": "markdown",
   "metadata": {},
   "source": []
  }
 ],
 "metadata": {
  "interpreter": {
   "hash": "7d291d498c548e9fa274ccf4ae9326886735d6ad373f47fc6820ad02a5e7fd5a"
  },
  "kernelspec": {
   "display_name": "Python 3.9.5 64-bit ('3.9.5')",
   "language": "python",
   "name": "python3"
  },
  "language_info": {
   "codemirror_mode": {
    "name": "ipython",
    "version": 3
   },
   "file_extension": ".py",
   "mimetype": "text/x-python",
   "name": "python",
   "nbconvert_exporter": "python",
   "pygments_lexer": "ipython3",
   "version": "3.9.5"
  }
 },
 "nbformat": 4,
 "nbformat_minor": 4
}
